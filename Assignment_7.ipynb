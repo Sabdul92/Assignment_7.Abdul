{
 "cells": [
  {
   "cell_type": "code",
   "execution_count": 23,
   "id": "a530e888-c2ee-4cda-afd2-57ee45be6dd8",
   "metadata": {},
   "outputs": [
    {
     "name": "stdout",
     "output_type": "stream",
     "text": [
      "Addition: 10 + 2 = 12\n",
      "Substraction: 10 - 2 = 8\n",
      "Multiplication :10 * 2 = 20\n",
      "Divided:10 / 2 = 5.0\n"
     ]
    }
   ],
   "source": [
    "\"\"\"\n",
    "Q.1. Create two int type variables, apply addition, subtraction, division and multiplications\n",
    "and store the results in variables. Then print the data in the following format by calling the\n",
    "variables:\n",
    "\n",
    "First variable is __ & second variable is __.\n",
    "Addition: __ + __ = __\n",
    "Subtraction: __ - __ = __\n",
    "Multiplication: __ * __ = __\n",
    "Division: __ / __ = __\n",
    "\n",
    "\"\"\"\n",
    "# ANS:- 1\n",
    "A = 10\n",
    "B = 2\n",
    "sum = A+B\n",
    "sub = A-B\n",
    "mul = A*B\n",
    "div = A/B\n",
    "\n",
    "print(\"Addition: 10 + 2 =\", sum)\n",
    "print(\"Substraction: 10 - 2 =\", sub);\n",
    "print(\"Multiplication :10 * 2 =\", mul);\n",
    "print(\"Divided:10 / 2 =\",div)"
   ]
  },
  {
   "cell_type": "code",
   "execution_count": null,
   "id": "619ad94b-ab7d-4239-9fd3-82c074109799",
   "metadata": {},
   "outputs": [],
   "source": [
    "\"\"\"\n",
    "Q.2. What is the difference between the following operators:\n",
    "(i) ‘/’ & ‘//’\n",
    "(ii) ‘**’ & ‘^’\n",
    "\n",
    "#Ans:-\n",
    "/ (Division Operator) :- / is known as division operator, it is used to find the remainder.\n",
    " It divides the value of left operand with the value of right operand and returns the result as a float value.\n",
    " \n",
    " // (Floor Division) it divides and truncates the fractional part from the result. it gives only integer (whole number as a result.\n",
    " \n",
    " \n",
    " ** (Exponentiation / Power) it returns base raised to power exponent\n",
    " ^ (XOR)  if both the bits are same it gives 0\n",
    " \n",
    " \"\"\"\n"
   ]
  },
  {
   "cell_type": "code",
   "execution_count": null,
   "id": "4c6ea38d-548e-44a9-b31e-e33d96eb4548",
   "metadata": {},
   "outputs": [],
   "source": [
    "\"\"\"\n",
    "Q.3. List the logical operators.\n",
    "\n",
    "Ans:- There are Three Logical Operators\n",
    "1) AND\n",
    "2) OR\n",
    "3) NOT\n",
    "\"\"\""
   ]
  },
  {
   "cell_type": "code",
   "execution_count": null,
   "id": "0cae5048-d4ba-4afd-b465-5c6dfe859438",
   "metadata": {},
   "outputs": [],
   "source": [
    "Q.4. Explain right shift operator and left shift operator with examples.\n",
    "\n",
    "Ans:- if the both the bits are same it gives 0 (Zero)\n",
    "The bitwise shift operators are the right-shift operator ( >> ), which moves the bits of an integer or enumeration type expression to the right, \n",
    "and the left-shift operator ( << ), which moves the bits to the left.\n",
    "\n",
    "Let’s assume number as 128.\n",
    "If we shift the number 5 position to the right, the output will be\n",
    "\n",
    "\n",
    "Example\n",
    "= 128 >> 5\n",
    "= 128 / (25)\n",
    "=128/32\n",
    "=4.\n",
    "\n",
    "\n",
    "\n",
    "Let’s assume the number as 12\n",
    "If we shift the number 3 position to the left.\n",
    "Then the output will be,\n",
    "\n",
    "Example\n",
    "12 << 3\n",
    "= 12 * (23)\n",
    "= 12 * 8\n",
    "= 96."
   ]
  },
  {
   "cell_type": "code",
   "execution_count": 5,
   "id": "fd3a6db1-c4f9-4fcb-b058-8da670ecb08c",
   "metadata": {},
   "outputs": [
    {
     "name": "stdout",
     "output_type": "stream",
     "text": [
      "0\n",
      "1\n",
      "2\n",
      "3\n",
      "4\n",
      "5\n",
      "6\n",
      "7\n",
      "8\n",
      "9\n",
      "10\n",
      "11\n",
      "12\n",
      "13\n",
      "14\n"
     ]
    }
   ],
   "source": [
    "Q.5. Create a list containing int type data of length 15. Then write a code to check if 10 is\n",
    "present in the list or not.\n",
    "\n",
    "#Ans:-\n",
    "\n",
    "list1= [1,2,3,4,5,6,7,8,9,10,11,12,13,14,15]\n",
    "\n",
    "for i in range(15):\n",
    "    print(i)"
   ]
  },
  {
   "cell_type": "code",
   "execution_count": 14,
   "id": "1614d8b1-3836-4cf2-8d70-5a0ceef3c65e",
   "metadata": {},
   "outputs": [
    {
     "name": "stdout",
     "output_type": "stream",
     "text": [
      "10 is in list\n"
     ]
    }
   ],
   "source": [
    "if 10 in list1 :\n",
    "    print(\"10 is in list\")"
   ]
  }
 ],
 "metadata": {
  "kernelspec": {
   "display_name": "Python 3 (ipykernel)",
   "language": "python",
   "name": "python3"
  },
  "language_info": {
   "codemirror_mode": {
    "name": "ipython",
    "version": 3
   },
   "file_extension": ".py",
   "mimetype": "text/x-python",
   "name": "python",
   "nbconvert_exporter": "python",
   "pygments_lexer": "ipython3",
   "version": "3.10.6"
  }
 },
 "nbformat": 4,
 "nbformat_minor": 5
}
